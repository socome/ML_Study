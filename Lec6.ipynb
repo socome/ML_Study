{
  "nbformat": 4,
  "nbformat_minor": 0,
  "metadata": {
    "colab": {
      "name": "Lec6.ipynb",
      "version": "0.3.2",
      "provenance": [],
      "include_colab_link": true
    },
    "kernelspec": {
      "name": "python3",
      "display_name": "Python 3"
    },
    "accelerator": "GPU"
  },
  "cells": [
    {
      "cell_type": "markdown",
      "metadata": {
        "id": "view-in-github",
        "colab_type": "text"
      },
      "source": [
        "<a href=\"https://colab.research.google.com/github/socome/ML_study/blob/master/Lec6.ipynb\" target=\"_parent\"><img src=\"https://colab.research.google.com/assets/colab-badge.svg\" alt=\"Open In Colab\"/></a>"
      ]
    },
    {
      "metadata": {
        "id": "DxjeAxwnaM5T",
        "colab_type": "code",
        "colab": {}
      },
      "cell_type": "code",
      "source": [
        "from google.colab import files\n",
        "uploaded = files.upload()"
      ],
      "execution_count": 0,
      "outputs": []
    },
    {
      "metadata": {
        "id": "NQqL-sRHaL5U",
        "colab_type": "code",
        "colab": {
          "base_uri": "https://localhost:8080/",
          "height": 269
        },
        "outputId": "82acf2cd-8e12-4279-b19c-090dfc2b7cdb"
      },
      "cell_type": "code",
      "source": [
        "import tensorflow as tf\n",
        "import numpy as np\n",
        "\n",
        "x_data = [[1, 2, 1, 1], [2, 1, 3, 2], [3, 1, 3, 4], [4, 1, 5, 5], [1, 7, 5, 5], [1, 2, 5, 6], [1, 6, 6, 6], [1, 7, 7, 7]]\n",
        "# Y value를 'one.hot ENCODING' 으로 표시\n",
        "y_data = [[0,0,1],[0,0,1],[0,0,1],[0,1,0],[0,1,0],[0,1,0],[1,0,0],[1,0,0]]\n",
        "\n",
        "X = tf.placeholder(\"float\", [None, 4])\n",
        "Y = tf.placeholder(\"float\", [None, 3])\n",
        "nb_classes = 3\n",
        "\n",
        "W = tf.Variable(tf.random_normal([4, nb_classes]), name='weight')\n",
        "b = tf.Variable(tf.random_normal([nb_classes]), name='bias')\n",
        "\n",
        "#tf.nn.softmax computes softmax activations\n",
        "# softmax = exp(Logits) / reduce_sum(exp(Logits), dim)\n",
        "hypothesis = tf.nn.softmax(tf.matmul(X,W)+b)\n",
        "\n",
        "# Cross entropy cost/Loss\n",
        "cost = tf.reduce_mean(-tf.reduce_sum(Y*tf.log(hypothesis), axis=1))\n",
        "optimizer = tf.train.GradientDescentOptimizer(learning_rate=0.1).minimize(cost)\n",
        "\n",
        "\n",
        "with tf.Session() as sess:\n",
        "  sess.run(tf.global_variables_initializer())\n",
        "  \n",
        "  for step in range(2001):\n",
        "    sess.run(optimizer, feed_dict={X:x_data,Y:y_data})\n",
        "    if step % 200 ==0:\n",
        "      print(step, sess.run(cost, feed_dict={X:x_data,Y:y_data}))\n",
        "\n",
        "  all = sess.run(hypothesis, feed_dict={X: [[1,11,7,9],[1,3,4,3],[1,1,0,1]]})\n",
        "  print(all, sess.run(tf.argmax(all,1)))\n",
        " \n"
      ],
      "execution_count": 11,
      "outputs": [
        {
          "output_type": "stream",
          "text": [
            "0 6.051074\n",
            "200 0.58180463\n",
            "400 0.474821\n",
            "600 0.3803409\n",
            "800 0.2891925\n",
            "1000 0.23476692\n",
            "1200 0.21270588\n",
            "1400 0.19435313\n",
            "1600 0.17883363\n",
            "1800 0.1655395\n",
            "2000 0.15402864\n",
            "[[6.4485874e-03 9.9354136e-01 1.0100360e-05]\n",
            " [8.3703148e-01 1.4456449e-01 1.8404063e-02]\n",
            " [1.1466876e-08 3.4434642e-04 9.9965560e-01]] [1 0 2]\n"
          ],
          "name": "stdout"
        }
      ]
    }
  ]
}