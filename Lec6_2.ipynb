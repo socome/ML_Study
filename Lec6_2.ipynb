{
  "nbformat": 4,
  "nbformat_minor": 0,
  "metadata": {
    "colab": {
      "name": "Lec6_2.ipynb",
      "version": "0.3.2",
      "provenance": [],
      "include_colab_link": true
    },
    "kernelspec": {
      "name": "python3",
      "display_name": "Python 3"
    },
    "accelerator": "GPU"
  },
  "cells": [
    {
      "cell_type": "markdown",
      "metadata": {
        "id": "view-in-github",
        "colab_type": "text"
      },
      "source": [
        "<a href=\"https://colab.research.google.com/github/socome/ML_study/blob/master/Lec6_2.ipynb\" target=\"_parent\"><img src=\"https://colab.research.google.com/assets/colab-badge.svg\" alt=\"Open In Colab\"/></a>"
      ]
    },
    {
      "metadata": {
        "id": "XgqknnXZ-gkn",
        "colab_type": "code",
        "outputId": "ab08bfb0-6f48-4cb9-9475-73a81e8c87ec",
        "colab": {
          "base_uri": "https://localhost:8080/",
          "height": 125
        }
      },
      "cell_type": "code",
      "source": [
        "!git clone https://github.com/socome/ML_study.git"
      ],
      "execution_count": 1,
      "outputs": [
        {
          "output_type": "stream",
          "text": [
            "Cloning into 'ML_study'...\n",
            "remote: Enumerating objects: 43, done.\u001b[K\n",
            "remote: Counting objects: 100% (43/43), done.\u001b[K\n",
            "remote: Compressing objects: 100% (39/39), done.\u001b[K\n",
            "remote: Total 43 (delta 16), reused 19 (delta 3), pack-reused 0\u001b[K\n",
            "Unpacking objects: 100% (43/43), done.\n"
          ],
          "name": "stdout"
        }
      ]
    },
    {
      "metadata": {
        "id": "vOZsgxAa-yqS",
        "colab_type": "code",
        "outputId": "04f63699-93a7-497b-a1dc-c8d7945caac3",
        "colab": {
          "base_uri": "https://localhost:8080/",
          "height": 107
        }
      },
      "cell_type": "code",
      "source": [
        "ls ML_study"
      ],
      "execution_count": 2,
      "outputs": [
        {
          "output_type": "stream",
          "text": [
            " data_01_test_score.csv   Lec04_1_3.ipynb                Lec05.ipynb\n",
            " data-03-diabetes.csv     Lec04_1_4.ipynb                Lec6_2.ipynb\n",
            " data-04-zoo.csv          lec05_2_exercise.ipynb         Lec6.ipynb\n",
            " Lec04_1_1.ipynb          Lec05-2-exercise.ipynb\n",
            " Lec04_1_2.ipynb         'Lec05-2(realdatatest).ipynb'\n"
          ],
          "name": "stdout"
        }
      ]
    },
    {
      "metadata": {
        "id": "1QYjLZznhKY4",
        "colab_type": "code",
        "colab": {}
      },
      "cell_type": "code",
      "source": [
        "import tensorflow as tf\n",
        "import numpy as np"
      ],
      "execution_count": 0,
      "outputs": []
    },
    {
      "metadata": {
        "id": "0l1-rA0g_Gzw",
        "colab_type": "code",
        "colab": {
          "base_uri": "https://localhost:8080/",
          "height": 2195
        },
        "outputId": "15bacaa4-3227-4be3-a743-964144ae2fea"
      },
      "cell_type": "code",
      "source": [
        "xy = np.loadtxt('ML_study/data-04-zoo.csv', delimiter=',', dtype=np.float32)\n",
        "x_data = xy[:, 0:-1]\n",
        "y_data = xy[:, [-1]]\n",
        "\n",
        "nb_classes = 7\n",
        "\n",
        "X = tf.placeholder(tf.float32, [None, 16])\n",
        "Y = tf.placeholder(tf.int32, [None, 1])\n",
        "\n",
        "Y_one_hot = tf.one_hot(Y, nb_classes)\n",
        "Y_one_hot = tf.reshape(Y_one_hot, [-1, nb_classes])\n",
        "\n",
        "W = tf.Variable(tf.random_normal([16, nb_classes]), name='weight')\n",
        "b = tf.Variable(tf.random_normal([nb_classes]), name='bias')\n",
        "\n",
        "logits = tf.matmul(X, W) + b\n",
        "hypothesis = tf.nn.softmax(logits)\n",
        "\n",
        "# <1> Cross entropy cost/Loss\n",
        "#cost = tf.reduce_mean(-tf.reduce_sum(Y * tf.log(hypothesis), axis=1))\n",
        "\n",
        "# <2> Cross entropy cost/Loss\n",
        "cost_i = tf.nn.softmax_cross_entropy_with_logits_v2(logits=logits, labels=Y_one_hot)\n",
        "cost = tf.reduce_mean(cost_i)\n",
        "optimizer = tf.train.GradientDescentOptimizer(learning_rate=0.1).minimize(cost)\n",
        "\n",
        "prediction = tf.argmax(hypothesis, 1)\n",
        "correct_prediction = tf.equal(prediction, tf.argmax(Y_one_hot, 1))\n",
        "accuracy = tf.reduce_mean(tf.cast(correct_prediction, tf.float32))\n",
        "\n",
        "with tf.Session() as sess:\n",
        "  sess.run(tf.global_variables_initializer())\n",
        "  \n",
        "  for step in range(2000):\n",
        "    sess.run(optimizer, feed_dict={X: x_data, Y: y_data})\n",
        "    if step % 100 == 0:\n",
        "      loss, acc = sess.run([cost, accuracy], feed_dict={X: x_data, Y: y_data})\n",
        "      print(\"Step : {:5}\\tLoss: {:.3}\\tAcc: {:.2%}\".format(step, loss, acc))\n",
        "      \n",
        "  pred = sess.run(prediction, feed_dict={X:x_data})\n",
        "  \n",
        "  for p, y in zip(pred, y_data.flatten()):\n",
        "    print(\"[{}] Predction: {} True Y: {}\".format(p == int(y), p, int(y)))"
      ],
      "execution_count": 12,
      "outputs": [
        {
          "output_type": "stream",
          "text": [
            "Step :     0\tLoss: 6.2\tAcc: 21.78%\n",
            "Step :   100\tLoss: 0.767\tAcc: 75.25%\n",
            "Step :   200\tLoss: 0.451\tAcc: 86.14%\n",
            "Step :   300\tLoss: 0.327\tAcc: 87.13%\n",
            "Step :   400\tLoss: 0.258\tAcc: 93.07%\n",
            "Step :   500\tLoss: 0.212\tAcc: 96.04%\n",
            "Step :   600\tLoss: 0.181\tAcc: 97.03%\n",
            "Step :   700\tLoss: 0.157\tAcc: 97.03%\n",
            "Step :   800\tLoss: 0.138\tAcc: 98.02%\n",
            "Step :   900\tLoss: 0.124\tAcc: 99.01%\n",
            "Step :  1000\tLoss: 0.112\tAcc: 99.01%\n",
            "Step :  1100\tLoss: 0.102\tAcc: 100.00%\n",
            "Step :  1200\tLoss: 0.0933\tAcc: 100.00%\n",
            "Step :  1300\tLoss: 0.0861\tAcc: 100.00%\n",
            "Step :  1400\tLoss: 0.0799\tAcc: 100.00%\n",
            "Step :  1500\tLoss: 0.0745\tAcc: 100.00%\n",
            "Step :  1600\tLoss: 0.0698\tAcc: 100.00%\n",
            "Step :  1700\tLoss: 0.0656\tAcc: 100.00%\n",
            "Step :  1800\tLoss: 0.0619\tAcc: 100.00%\n",
            "Step :  1900\tLoss: 0.0586\tAcc: 100.00%\n",
            "[True] Predction: 0 True Y: 0\n",
            "[True] Predction: 0 True Y: 0\n",
            "[True] Predction: 3 True Y: 3\n",
            "[True] Predction: 0 True Y: 0\n",
            "[True] Predction: 0 True Y: 0\n",
            "[True] Predction: 0 True Y: 0\n",
            "[True] Predction: 0 True Y: 0\n",
            "[True] Predction: 3 True Y: 3\n",
            "[True] Predction: 3 True Y: 3\n",
            "[True] Predction: 0 True Y: 0\n",
            "[True] Predction: 0 True Y: 0\n",
            "[True] Predction: 1 True Y: 1\n",
            "[True] Predction: 3 True Y: 3\n",
            "[True] Predction: 6 True Y: 6\n",
            "[True] Predction: 6 True Y: 6\n",
            "[True] Predction: 6 True Y: 6\n",
            "[True] Predction: 1 True Y: 1\n",
            "[True] Predction: 0 True Y: 0\n",
            "[True] Predction: 3 True Y: 3\n",
            "[True] Predction: 0 True Y: 0\n",
            "[True] Predction: 1 True Y: 1\n",
            "[True] Predction: 1 True Y: 1\n",
            "[True] Predction: 0 True Y: 0\n",
            "[True] Predction: 1 True Y: 1\n",
            "[True] Predction: 5 True Y: 5\n",
            "[True] Predction: 4 True Y: 4\n",
            "[True] Predction: 4 True Y: 4\n",
            "[True] Predction: 0 True Y: 0\n",
            "[True] Predction: 0 True Y: 0\n",
            "[True] Predction: 0 True Y: 0\n",
            "[True] Predction: 5 True Y: 5\n",
            "[True] Predction: 0 True Y: 0\n",
            "[True] Predction: 0 True Y: 0\n",
            "[True] Predction: 1 True Y: 1\n",
            "[True] Predction: 3 True Y: 3\n",
            "[True] Predction: 0 True Y: 0\n",
            "[True] Predction: 0 True Y: 0\n",
            "[True] Predction: 1 True Y: 1\n",
            "[True] Predction: 3 True Y: 3\n",
            "[True] Predction: 5 True Y: 5\n",
            "[True] Predction: 5 True Y: 5\n",
            "[True] Predction: 1 True Y: 1\n",
            "[True] Predction: 5 True Y: 5\n",
            "[True] Predction: 1 True Y: 1\n",
            "[True] Predction: 0 True Y: 0\n",
            "[True] Predction: 0 True Y: 0\n",
            "[True] Predction: 6 True Y: 6\n",
            "[True] Predction: 0 True Y: 0\n",
            "[True] Predction: 0 True Y: 0\n",
            "[True] Predction: 0 True Y: 0\n",
            "[True] Predction: 0 True Y: 0\n",
            "[True] Predction: 5 True Y: 5\n",
            "[True] Predction: 4 True Y: 4\n",
            "[True] Predction: 6 True Y: 6\n",
            "[True] Predction: 0 True Y: 0\n",
            "[True] Predction: 0 True Y: 0\n",
            "[True] Predction: 1 True Y: 1\n",
            "[True] Predction: 1 True Y: 1\n",
            "[True] Predction: 1 True Y: 1\n",
            "[True] Predction: 1 True Y: 1\n",
            "[True] Predction: 3 True Y: 3\n",
            "[True] Predction: 3 True Y: 3\n",
            "[True] Predction: 2 True Y: 2\n",
            "[True] Predction: 0 True Y: 0\n",
            "[True] Predction: 0 True Y: 0\n",
            "[True] Predction: 0 True Y: 0\n",
            "[True] Predction: 0 True Y: 0\n",
            "[True] Predction: 0 True Y: 0\n",
            "[True] Predction: 0 True Y: 0\n",
            "[True] Predction: 0 True Y: 0\n",
            "[True] Predction: 0 True Y: 0\n",
            "[True] Predction: 1 True Y: 1\n",
            "[True] Predction: 6 True Y: 6\n",
            "[True] Predction: 3 True Y: 3\n",
            "[True] Predction: 0 True Y: 0\n",
            "[True] Predction: 0 True Y: 0\n",
            "[True] Predction: 2 True Y: 2\n",
            "[True] Predction: 6 True Y: 6\n",
            "[True] Predction: 1 True Y: 1\n",
            "[True] Predction: 1 True Y: 1\n",
            "[True] Predction: 2 True Y: 2\n",
            "[True] Predction: 6 True Y: 6\n",
            "[True] Predction: 3 True Y: 3\n",
            "[True] Predction: 1 True Y: 1\n",
            "[True] Predction: 0 True Y: 0\n",
            "[True] Predction: 6 True Y: 6\n",
            "[True] Predction: 3 True Y: 3\n",
            "[True] Predction: 1 True Y: 1\n",
            "[True] Predction: 5 True Y: 5\n",
            "[True] Predction: 4 True Y: 4\n",
            "[True] Predction: 2 True Y: 2\n",
            "[True] Predction: 2 True Y: 2\n",
            "[True] Predction: 3 True Y: 3\n",
            "[True] Predction: 0 True Y: 0\n",
            "[True] Predction: 0 True Y: 0\n",
            "[True] Predction: 1 True Y: 1\n",
            "[True] Predction: 0 True Y: 0\n",
            "[True] Predction: 5 True Y: 5\n",
            "[True] Predction: 0 True Y: 0\n",
            "[True] Predction: 6 True Y: 6\n",
            "[True] Predction: 1 True Y: 1\n"
          ],
          "name": "stdout"
        }
      ]
    }
  ]
}