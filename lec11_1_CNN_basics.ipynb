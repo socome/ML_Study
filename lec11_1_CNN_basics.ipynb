{
  "nbformat": 4,
  "nbformat_minor": 0,
  "metadata": {
    "colab": {
      "name": "lec11_1 CNN basics.ipynb",
      "version": "0.3.2",
      "provenance": [],
      "include_colab_link": true
    },
    "kernelspec": {
      "name": "python3",
      "display_name": "Python 3"
    },
    "accelerator": "GPU"
  },
  "cells": [
    {
      "cell_type": "markdown",
      "metadata": {
        "id": "view-in-github",
        "colab_type": "text"
      },
      "source": [
        "<a href=\"https://colab.research.google.com/github/socome/ML_study/blob/master/lec11_1_CNN_basics.ipynb\" target=\"_parent\"><img src=\"https://colab.research.google.com/assets/colab-badge.svg\" alt=\"Open In Colab\"/></a>"
      ]
    },
    {
      "metadata": {
        "id": "MV9p0yweRKS1",
        "colab_type": "code",
        "colab": {}
      },
      "cell_type": "code",
      "source": [
        "%matplotlib inline\n",
        "import numpy as np\n",
        "import tensorflow as tf\n",
        "import matplotlib.pyplot as plt"
      ],
      "execution_count": 0,
      "outputs": []
    },
    {
      "metadata": {
        "id": "F2E10Cn4RS1C",
        "colab_type": "code",
        "colab": {
          "base_uri": "https://localhost:8080/",
          "height": 305
        },
        "outputId": "fd98608c-16cd-45b1-b6d0-b11085b8d0b9"
      },
      "cell_type": "code",
      "source": [
        "sess = tf.InteractiveSession()\n",
        "image = np.array([[[[1],[2],[3]],\n",
        "                   [[4],[5],[6]], \n",
        "                   [[7],[8],[9]]]], dtype=np.float32)\n",
        "print(image.shape)\n",
        "plt.imshow(image.reshape(3,3), cmap='Greys')"
      ],
      "execution_count": 2,
      "outputs": [
        {
          "output_type": "stream",
          "text": [
            "(1, 3, 3, 1)\n"
          ],
          "name": "stdout"
        },
        {
          "output_type": "execute_result",
          "data": {
            "text/plain": [
              "<matplotlib.image.AxesImage at 0x7f17b7b8b9e8>"
            ]
          },
          "metadata": {
            "tags": []
          },
          "execution_count": 2
        },
        {
          "output_type": "display_data",
          "data": {
            "image/png": "[encoded data removed]",
            "text/plain": [
              "<matplotlib.figure.Figure at 0x7f180d87c518>"
            ]
          },
          "metadata": {
            "tags": []
          }
        }
      ]
    },
    {
      "metadata": {
        "id": "rbJ31czyRYGM",
        "colab_type": "code",
        "colab": {
          "base_uri": "https://localhost:8080/",
          "height": 294
        },
        "outputId": "780dcdfe-efca-4807-f785-6dee7462223b"
      },
      "cell_type": "code",
      "source": [
        "# print(\"imag:\\n\", image)\n",
        "print(\"image.shape\", image.shape)\n",
        "weight = tf.constant([[[[1.]],[[1.]]],\n",
        "                      [[[1.]],[[1.]]]])\n",
        "print(\"weight.shape\", weight.shape)\n",
        "conv2d = tf.nn.conv2d(image, weight, strides=[1, 1, 1, 1], padding='VALID')\n",
        "conv2d_img = conv2d.eval()\n",
        "print(\"conv2d_img.shape\", conv2d_img.shape)\n",
        "conv2d_img = np.swapaxes(conv2d_img, 0, 3)\n",
        "for i, one_img in enumerate(conv2d_img):\n",
        "    print(one_img.reshape(2,2))\n",
        "    plt.subplot(1,2,i+1), plt.imshow(one_img.reshape(2,2), cmap='gray')"
      ],
      "execution_count": 3,
      "outputs": [
        {
          "output_type": "stream",
          "text": [
            "image.shape (1, 3, 3, 1)\n",
            "weight.shape (2, 2, 1, 1)\n",
            "conv2d_img.shape (1, 2, 2, 1)\n",
            "[[12. 16.]\n",
            " [24. 28.]]\n"
          ],
          "name": "stdout"
        },
        {
          "output_type": "display_data",
          "data": {
            "image/png": "[encoded data removed]",
            "text/plain": [
              "<matplotlib.figure.Figure at 0x7f17b7b422b0>"
            ]
          },
          "metadata": {
            "tags": []
          }
        }
      ]
    },
    {
      "metadata": {
        "id": "lAJjxGDORar8",
        "colab_type": "code",
        "colab": {
          "base_uri": "https://localhost:8080/",
          "height": 312
        },
        "outputId": "2c198b61-6466-424f-c450-88bab9a20160"
      },
      "cell_type": "code",
      "source": [
        "# print(\"imag:\\n\", image)\n",
        "print(\"image.shape\", image.shape)\n",
        "\n",
        "weight = tf.constant([[[[1.]],[[1.]]],\n",
        "                      [[[1.]],[[1.]]]])\n",
        "print(\"weight.shape\", weight.shape)\n",
        "conv2d = tf.nn.conv2d(image, weight, strides=[1, 1, 1, 1], padding='SAME')\n",
        "conv2d_img = conv2d.eval()\n",
        "print(\"conv2d_img.shape\", conv2d_img.shape)\n",
        "conv2d_img = np.swapaxes(conv2d_img, 0, 3)\n",
        "for i, one_img in enumerate(conv2d_img):\n",
        "    print(one_img.reshape(3,3))\n",
        "    plt.subplot(1,2,i+1), plt.imshow(one_img.reshape(3,3), cmap='gray')"
      ],
      "execution_count": 4,
      "outputs": [
        {
          "output_type": "stream",
          "text": [
            "image.shape (1, 3, 3, 1)\n",
            "weight.shape (2, 2, 1, 1)\n",
            "conv2d_img.shape (1, 3, 3, 1)\n",
            "[[12. 16.  9.]\n",
            " [24. 28. 15.]\n",
            " [15. 17.  9.]]\n"
          ],
          "name": "stdout"
        },
        {
          "output_type": "display_data",
          "data": {
            "image/png": "[encoded data removed]",
            "text/plain": [
              "<matplotlib.figure.Figure at 0x7f17bdbf8320>"
            ]
          },
          "metadata": {
            "tags": []
          }
        }
      ]
    },
    {
      "metadata": {
        "id": "ouOa81AQRcs1",
        "colab_type": "code",
        "colab": {
          "base_uri": "https://localhost:8080/",
          "height": 362
        },
        "outputId": "e84a0c19-31f6-4729-fd8d-3c72faf18a8d"
      },
      "cell_type": "code",
      "source": [
        "# print(\"imag:\\n\", image)\n",
        "print(\"image.shape\", image.shape)\n",
        "\n",
        "weight = tf.constant([[[[1.,10.,-1.]],[[1.,10.,-1.]]],\n",
        "                      [[[1.,10.,-1.]],[[1.,10.,-1.]]]])\n",
        "print(\"weight.shape\", weight.shape)\n",
        "conv2d = tf.nn.conv2d(image, weight, strides=[1, 1, 1, 1], padding='SAME')\n",
        "conv2d_img = conv2d.eval()\n",
        "print(\"conv2d_img.shape\", conv2d_img.shape)\n",
        "conv2d_img = np.swapaxes(conv2d_img, 0, 3)\n",
        "for i, one_img in enumerate(conv2d_img):\n",
        "    print(one_img.reshape(3,3))\n",
        "    plt.subplot(1,3,i+1), plt.imshow(one_img.reshape(3,3), cmap='gray')"
      ],
      "execution_count": 5,
      "outputs": [
        {
          "output_type": "stream",
          "text": [
            "image.shape (1, 3, 3, 1)\n",
            "weight.shape (2, 2, 1, 3)\n",
            "conv2d_img.shape (1, 3, 3, 3)\n",
            "[[12. 16.  9.]\n",
            " [24. 28. 15.]\n",
            " [15. 17.  9.]]\n",
            "[[120. 160.  90.]\n",
            " [240. 280. 150.]\n",
            " [150. 170.  90.]]\n",
            "[[-12. -16.  -9.]\n",
            " [-24. -28. -15.]\n",
            " [-15. -17.  -9.]]\n"
          ],
          "name": "stdout"
        },
        {
          "output_type": "display_data",
          "data": {
            "image/png": "[encoded data removed]",
            "text/plain": [
              "<matplotlib.figure.Figure at 0x7f17b7bad160>"
            ]
          },
          "metadata": {
            "tags": []
          }
        }
      ]
    },
    {
      "metadata": {
        "id": "pRDL93HJRgYd",
        "colab_type": "code",
        "colab": {
          "base_uri": "https://localhost:8080/",
          "height": 53
        },
        "outputId": "a1afb997-b540-49ce-e547-8bd918a6a19b"
      },
      "cell_type": "code",
      "source": [
        "image = np.array([[[[4],[3]],\n",
        "                    [[2],[1]]]], dtype=np.float32)\n",
        "pool = tf.nn.max_pool(image, ksize=[1, 2, 2, 1],\n",
        "                    strides=[1, 1, 1, 1], padding='VALID')\n",
        "print(pool.shape)\n",
        "print(pool.eval())"
      ],
      "execution_count": 6,
      "outputs": [
        {
          "output_type": "stream",
          "text": [
            "(1, 1, 1, 1)\n",
            "[[[[4.]]]]\n"
          ],
          "name": "stdout"
        }
      ]
    },
    {
      "metadata": {
        "id": "OSmXyadMRij2",
        "colab_type": "code",
        "colab": {
          "base_uri": "https://localhost:8080/",
          "height": 125
        },
        "outputId": "ae559260-98a9-4347-bb56-bbbd51abeba2"
      },
      "cell_type": "code",
      "source": [
        "image = np.array([[[[4],[3]],\n",
        "                    [[2],[1]]]], dtype=np.float32)\n",
        "pool = tf.nn.max_pool(image, ksize=[1, 2, 2, 1],\n",
        "                    strides=[1, 1, 1, 1], padding='SAME')\n",
        "print(pool.shape)\n",
        "print(pool.eval())"
      ],
      "execution_count": 7,
      "outputs": [
        {
          "output_type": "stream",
          "text": [
            "(1, 2, 2, 1)\n",
            "[[[[4.]\n",
            "   [3.]]\n",
            "\n",
            "  [[2.]\n",
            "   [1.]]]]\n"
          ],
          "name": "stdout"
        }
      ]
    },
    {
      "metadata": {
        "id": "FwLo4KspRk7H",
        "colab_type": "code",
        "colab": {
          "base_uri": "https://localhost:8080/",
          "height": 559
        },
        "outputId": "df137bcf-c7a2-4905-ad76-1af12c412a5d"
      },
      "cell_type": "code",
      "source": [
        "\n",
        "from tensorflow.examples.tutorials.mnist import input_data\n",
        "mnist = input_data.read_data_sets(\"MNIST_data/\", one_hot=True)\n",
        "# Check out https://www.tensorflow.org/get_started/mnist/beginners for\n",
        "# more information about the mnist dataset"
      ],
      "execution_count": 8,
      "outputs": [
        {
          "output_type": "stream",
          "text": [
            "WARNING:tensorflow:From <ipython-input-8-7d7915ea70fd>:3: read_data_sets (from tensorflow.contrib.learn.python.learn.datasets.mnist) is deprecated and will be removed in a future version.\n",
            "Instructions for updating:\n",
            "Please use alternatives such as official/mnist/dataset.py from tensorflow/models.\n",
            "WARNING:tensorflow:From /usr/local/lib/python3.6/dist-packages/tensorflow/contrib/learn/python/learn/datasets/mnist.py:260: maybe_download (from tensorflow.contrib.learn.python.learn.datasets.base) is deprecated and will be removed in a future version.\n",
            "Instructions for updating:\n",
            "Please write your own downloading logic.\n",
            "WARNING:tensorflow:From /usr/local/lib/python3.6/dist-packages/tensorflow/contrib/learn/python/learn/datasets/base.py:252: _internal_retry.<locals>.wrap.<locals>.wrapped_fn (from tensorflow.contrib.learn.python.learn.datasets.base) is deprecated and will be removed in a future version.\n",
            "Instructions for updating:\n",
            "Please use urllib or similar directly.\n",
            "Successfully downloaded train-images-idx3-ubyte.gz 9912422 bytes.\n",
            "WARNING:tensorflow:From /usr/local/lib/python3.6/dist-packages/tensorflow/contrib/learn/python/learn/datasets/mnist.py:262: extract_images (from tensorflow.contrib.learn.python.learn.datasets.mnist) is deprecated and will be removed in a future version.\n",
            "Instructions for updating:\n",
            "Please use tf.data to implement this functionality.\n",
            "Extracting MNIST_data/train-images-idx3-ubyte.gz\n",
            "Successfully downloaded train-labels-idx1-ubyte.gz 28881 bytes.\n",
            "WARNING:tensorflow:From /usr/local/lib/python3.6/dist-packages/tensorflow/contrib/learn/python/learn/datasets/mnist.py:267: extract_labels (from tensorflow.contrib.learn.python.learn.datasets.mnist) is deprecated and will be removed in a future version.\n",
            "Instructions for updating:\n",
            "Please use tf.data to implement this functionality.\n",
            "Extracting MNIST_data/train-labels-idx1-ubyte.gz\n",
            "WARNING:tensorflow:From /usr/local/lib/python3.6/dist-packages/tensorflow/contrib/learn/python/learn/datasets/mnist.py:110: dense_to_one_hot (from tensorflow.contrib.learn.python.learn.datasets.mnist) is deprecated and will be removed in a future version.\n",
            "Instructions for updating:\n",
            "Please use tf.one_hot on tensors.\n",
            "Successfully downloaded t10k-images-idx3-ubyte.gz 1648877 bytes.\n",
            "Extracting MNIST_data/t10k-images-idx3-ubyte.gz\n",
            "Successfully downloaded t10k-labels-idx1-ubyte.gz 4542 bytes.\n",
            "Extracting MNIST_data/t10k-labels-idx1-ubyte.gz\n",
            "WARNING:tensorflow:From /usr/local/lib/python3.6/dist-packages/tensorflow/contrib/learn/python/learn/datasets/mnist.py:290: DataSet.__init__ (from tensorflow.contrib.learn.python.learn.datasets.mnist) is deprecated and will be removed in a future version.\n",
            "Instructions for updating:\n",
            "Please use alternatives such as official/mnist/dataset.py from tensorflow/models.\n"
          ],
          "name": "stdout"
        }
      ]
    },
    {
      "metadata": {
        "id": "wIpnLGSfRqoY",
        "colab_type": "code",
        "colab": {
          "base_uri": "https://localhost:8080/",
          "height": 283
        },
        "outputId": "bb713250-b092-4600-ce4b-aa077ede6651"
      },
      "cell_type": "code",
      "source": [
        "img = mnist.train.images[0].reshape(28,28)\n",
        "plt.imshow(img, cmap='gray')"
      ],
      "execution_count": 9,
      "outputs": [
        {
          "output_type": "execute_result",
          "data": {
            "text/plain": [
              "<matplotlib.image.AxesImage at 0x7f179b891828>"
            ]
          },
          "metadata": {
            "tags": []
          },
          "execution_count": 9
        },
        {
          "output_type": "display_data",
          "data": {
            "image/png": "[encoded data removed]",
            "text/plain": [
              "<matplotlib.figure.Figure at 0x7f179c7af160>"
            ]
          },
          "metadata": {
            "tags": []
          }
        }
      ]
    },
    {
      "metadata": {
        "id": "eXxdMW5TRtC5",
        "colab_type": "code",
        "colab": {
          "base_uri": "https://localhost:8080/",
          "height": 182
        },
        "outputId": "b2335ee0-77f2-4d5a-99c1-aac90329f059"
      },
      "cell_type": "code",
      "source": [
        "sess = tf.InteractiveSession()\n",
        "\n",
        "img = img.reshape(-1,28,28,1)\n",
        "W1 = tf.Variable(tf.random_normal([3, 3, 1, 5], stddev=0.01))\n",
        "conv2d = tf.nn.conv2d(img, W1, strides=[1, 2, 2, 1], padding='SAME')\n",
        "print(conv2d)\n",
        "sess.run(tf.global_variables_initializer())\n",
        "conv2d_img = conv2d.eval()\n",
        "conv2d_img = np.swapaxes(conv2d_img, 0, 3)\n",
        "for i, one_img in enumerate(conv2d_img):\n",
        "    plt.subplot(1,5,i+1), plt.imshow(one_img.reshape(14,14), cmap='gray')"
      ],
      "execution_count": 10,
      "outputs": [
        {
          "output_type": "stream",
          "text": [
            "/usr/local/lib/python3.6/dist-packages/tensorflow/python/client/session.py:1702: UserWarning: An interactive session is already active. This can cause out-of-memory errors in some cases. You must explicitly call `InteractiveSession.close()` to release resources held by the other session(s).\n",
            "  warnings.warn('An interactive session is already active. This can '\n"
          ],
          "name": "stderr"
        },
        {
          "output_type": "stream",
          "text": [
            "Tensor(\"Conv2D_3:0\", shape=(1, 14, 14, 5), dtype=float32)\n"
          ],
          "name": "stdout"
        },
        {
          "output_type": "display_data",
          "data": {
            "image/png": "[encoded data removed]",
            "text/plain": [
              "<matplotlib.figure.Figure at 0x7f179b8ba080>"
            ]
          },
          "metadata": {
            "tags": []
          }
        }
      ]
    },
    {
      "metadata": {
        "id": "iFCNJ-NoRukR",
        "colab_type": "code",
        "colab": {
          "base_uri": "https://localhost:8080/",
          "height": 124
        },
        "outputId": "df1084eb-1eb0-46ca-aedb-4ee36bfe6ffc"
      },
      "cell_type": "code",
      "source": [
        "pool = tf.nn.max_pool(conv2d, ksize=[1, 2, 2, 1], strides=[\n",
        "                        1, 2, 2, 1], padding='SAME')\n",
        "print(pool)\n",
        "sess.run(tf.global_variables_initializer())\n",
        "pool_img = pool.eval()\n",
        "pool_img = np.swapaxes(pool_img, 0, 3)\n",
        "for i, one_img in enumerate(pool_img):\n",
        "    plt.subplot(1,5,i+1), plt.imshow(one_img.reshape(7, 7), cmap='gray')"
      ],
      "execution_count": 11,
      "outputs": [
        {
          "output_type": "stream",
          "text": [
            "Tensor(\"MaxPool_2:0\", shape=(1, 7, 7, 5), dtype=float32)\n"
          ],
          "name": "stdout"
        },
        {
          "output_type": "display_data",
          "data": {
            "image/png": "[encoded data removed]",
            "text/plain": [
              "<matplotlib.figure.Figure at 0x7f179c7af0f0>"
            ]
          },
          "metadata": {
            "tags": []
          }
        }
      ]
    }
  ]
}