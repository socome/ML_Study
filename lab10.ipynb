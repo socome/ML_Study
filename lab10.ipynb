{
  "nbformat": 4,
  "nbformat_minor": 0,
  "metadata": {
    "colab": {
      "name": "lab7-2.ipynb",
      "version": "0.3.2",
      "provenance": [],
      "include_colab_link": true
    },
    "kernelspec": {
      "name": "python3",
      "display_name": "Python 3"
    },
    "accelerator": "GPU"
  },
  "cells": [
    {
      "cell_type": "markdown",
      "metadata": {
        "id": "view-in-github",
        "colab_type": "text"
      },
      "source": [
        "<a href=\"https://colab.research.google.com/github/socome/ML_study/blob/master/lab10.ipynb\" target=\"_parent\"><img src=\"https://colab.research.google.com/assets/colab-badge.svg\" alt=\"Open In Colab\"/></a>"
      ]
    },
    {
      "metadata": {
        "id": "4Gl_hL_NXGBh",
        "colab_type": "code",
        "colab": {}
      },
      "cell_type": "code",
      "source": [
        "import tensorflow as tf\n",
        "import numpy as np\n",
        "import matplotlib.pyplot as plt\n",
        "tf.set_random_seed(777)  # for reproducibility\n",
        "\n",
        "from tensorflow.examples.tutorials.mnist import input_data"
      ],
      "execution_count": 0,
      "outputs": []
    },
    {
      "metadata": {
        "id": "q1oSwz6IXHas",
        "colab_type": "code",
        "outputId": "b179a7dd-e177-403b-f29d-0ebd3b8e5a20",
        "colab": {
          "base_uri": "https://localhost:8080/",
          "height": 761
        }
      },
      "cell_type": "code",
      "source": [
        "mnist = input_data.read_data_sets(\"MNIST_data/\", one_hot=True)\n",
        " \n",
        "nb_classes = 10\n",
        " \n",
        "# MNIST data image of shape 28 * 28 = 784\n",
        "X = tf.placeholder(tf.float32, [None, 784])\n",
        "# 0 - 9 digits recognition = 10 classes\n",
        "Y = tf.placeholder(tf.float32, [None, nb_classes])\n",
        "\n",
        "W1 = tf.Variable(tf.random_normal([784, 256]))\n",
        "b1 = tf.Variable(tf.random_normal([256]))\n",
        "L1 = tf.nn.relu(tf.matmul(X, W1) +b1)\n",
        "\n",
        "W2 = tf.Variable(tf.random_normal([256, 256]))\n",
        "b2 = tf.Variable(tf.random_normal([256]))\n",
        "L2 = tf.nn.relu(tf.matmul(L1, W2) +b2)\n",
        "\n",
        "W3 = tf.Variable(tf.random_normal([256,10]))\n",
        "b3 = tf.Variable(tf.random_normal([10]))\n",
        "\n",
        "# Hypothesis (using softmax)\n",
        "hypothesis = tf.matmul(L2, W3) + b3\n",
        " \n",
        "cost = tf.reduce_mean(tf.nn.softmax_cross_entropy_with_logits(logits=hypothesis, labels=Y))\n",
        "optimizer = tf.train.AdamOptimizer(learning_rate=0.001).minimize(cost)\n",
        " \n",
        "# Test model\n",
        "is_correct = tf.equal(tf.argmax(hypothesis, 1), tf.argmax(Y, 1))\n",
        "# Calculate accuracy\n",
        "accuracy = tf.reduce_mean(tf.cast(is_correct, tf.float32))\n",
        " \n",
        "# parameters\n",
        "training_epochs = 15\n",
        "batch_size = 100\n",
        " \n",
        "with tf.Session() as sess:      \n",
        "  # Initialize TensorFlow variables\n",
        "  sess.run(tf.global_variables_initializer())\n",
        "  # Training cycle\n",
        "  for epoch in range(training_epochs):\n",
        "    avg_cost = 0\n",
        "    total_batch = int(mnist.train.num_examples / batch_size)\n",
        " \n",
        "    for i in range(total_batch):\n",
        "      batch_xs, batch_ys = mnist.train.next_batch(batch_size)\n",
        "      c, _ = sess.run([cost, optimizer], feed_dict={X: batch_xs, Y: batch_ys})\n",
        "      avg_cost += c / total_batch\n",
        " \n",
        "    print('Epoch:', '%04d' % (epoch + 1),'cost =', '{:.9f}'.format(avg_cost))\n",
        "    \n",
        "  print(\"Learning finished\")\n",
        " \n",
        "  # Test the model using test sets\n",
        "  print(\"Accuracy: \", accuracy.eval(session=sess, feed_dict={\n",
        "           X: mnist.test.images, Y: mnist.test.labels}))\n",
        " \n",
        "  # Get one and predict\n",
        "  r = np.random.randint(0, mnist.test.num_examples - 1)\n",
        "  print(\"Label: \", sess.run(tf.argmax(mnist.test.labels[r:r + 1], 1)))\n",
        "  print(\"Prediction: \", sess.run(tf.argmax(hypothesis, 1), feed_dict={X: mnist.test.images[r:r + 1]}))\n",
        "    \n",
        "  plt.imshow(mnist.test.images[r:r + 1].reshape(28, 28),\n",
        "    cmap='Greys',\n",
        "    interpolation='nearest')\n",
        "  plt.show()"
      ],
      "execution_count": 10,
      "outputs": [
        {
          "output_type": "stream",
          "text": [
            "Extracting MNIST_data/train-images-idx3-ubyte.gz\n",
            "Extracting MNIST_data/train-labels-idx1-ubyte.gz\n",
            "Extracting MNIST_data/t10k-images-idx3-ubyte.gz\n",
            "Extracting MNIST_data/t10k-labels-idx1-ubyte.gz\n",
            "Epoch: 0001 cost = 172.959581601\n",
            "Epoch: 0002 cost = 42.318191937\n",
            "Epoch: 0003 cost = 26.481703355\n",
            "Epoch: 0004 cost = 18.323571327\n",
            "Epoch: 0005 cost = 13.265157352\n",
            "Epoch: 0006 cost = 9.824268700\n",
            "Epoch: 0007 cost = 7.263321922\n",
            "Epoch: 0008 cost = 5.576887810\n",
            "Epoch: 0009 cost = 4.144061087\n",
            "Epoch: 0010 cost = 3.079040740\n",
            "Epoch: 0011 cost = 2.199755703\n",
            "Epoch: 0012 cost = 1.707605658\n",
            "Epoch: 0013 cost = 1.256858213\n",
            "Epoch: 0014 cost = 1.015668889\n",
            "Epoch: 0015 cost = 0.740832256\n",
            "Learning finished\n",
            "Accuracy:  0.944\n",
            "Label:  [9]\n",
            "Prediction:  [5]\n"
          ],
          "name": "stdout"
        },
        {
          "output_type": "display_data",
          "data": {
            "image/png": "[encoded data removed]",
            "text/plain": [
              "<matplotlib.figure.Figure at 0x7f73a50dcda0>"
            ]
          },
          "metadata": {
            "tags": []
          }
        }
      ]
    },
    {
      "metadata": {
        "id": "aDRWTMJBauR5",
        "colab_type": "code",
        "colab": {}
      },
      "cell_type": "code",
      "source": [
        ""
      ],
      "execution_count": 0,
      "outputs": []
    }
  ]
}